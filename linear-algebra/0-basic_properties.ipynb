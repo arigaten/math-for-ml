{
 "cells": [
  {
   "cell_type": "markdown",
   "metadata": {},
   "source": [
    "# Linear Algebra Review\n",
    "## Kousuke Ariga (koar8470@cs.washington.edu)\n",
    "## January 9, 2018"
   ]
  },
  {
   "cell_type": "markdown",
   "metadata": {},
   "source": [
    "## Contents\n",
    "1. Introduction  \n",
    "    1.1 Boston house prices dataset  \n",
    "    1.2 Linear regression model\n",
    "2. Matrices and vectors  \n",
    "    2.1 Matrix  \n",
    "    2.2 Vector\n",
    "3. Basic operations on matrices and vectors  \n",
    "    3.1 Matrix addition  \n",
    "    3.2 Scalar matrix multiplication  \n",
    "    3.3 Matrix vector multiplication  \n",
    "    3.4 Matrix matrix multiplication\n",
    "4. Properties of matrices  \n",
    "    4.1 Linear independence  \n",
    "    4.2 Rank  \n",
    "    4.3 Inverse  \n",
    "    4.4 Transpose  \n",
    "    4.5 Span and range  \n",
    "    4.6 Norm  \n",
    "    4.7 Gradient  \n",
    "    4.8 Matrix calculus  \n",
    "    4.9 Projection  \n",
    "    4.10 Orthogonality\n",
    "5. Conclusion\n",
    "\n",
    "Appendix  \n",
    "    A. Linear algebra visualized  \n",
    "    B. Transpose and 1-dimensional arrays in NumPy  \n",
    "\n",
    "Reference"
   ]
  },
  {
   "cell_type": "markdown",
   "metadata": {},
   "source": [
    "## 1. Introduction\n",
    "\n",
    "Why is linear algebra important in machine learning? Machine learning methods often involves a large amount of data. Linear algebra provides a clever way to analyze and manipulate such data. To make the argument concrete, let's take a look at a sample dataset."
   ]
  },
  {
   "cell_type": "markdown",
   "metadata": {},
   "source": [
    "### 1.1 Boston house prices dataset"
   ]
  },
  {
   "cell_type": "code",
   "execution_count": 2,
   "metadata": {},
   "outputs": [],
   "source": [
    "import numpy as np\n",
    "import matplotlib\n",
    "import matplotlib.pyplot as plt\n",
    "from sklearn.datasets import load_boston\n",
    "from IPython.display import HTML, Image\n",
    "\n",
    "np.set_printoptions(suppress=True, linewidth=120, precision=2)"
   ]
  },
  {
   "cell_type": "code",
   "execution_count": 3,
   "metadata": {},
   "outputs": [
    {
     "name": "stdout",
     "output_type": "stream",
     "text": [
      "Boston House Prices dataset\n",
      "===========================\n",
      "\n",
      "Notes\n",
      "------\n",
      "Data Set Characteristics:  \n",
      "\n",
      "    :Number of Instances: 506 \n",
      "\n",
      "    :Number of Attributes: 13 numeric/categorical predictive\n",
      "    \n",
      "    :Median Value (attribute 14) is usually the target\n",
      "\n",
      "    :Attribute Information (in order):\n",
      "        - CRIM     per capita crime rate by town\n",
      "        - ZN       proportion of residential land zoned for lots over 25,000 sq.ft.\n",
      "        - INDUS    proportion of non-retail business acres per town\n",
      "        - CHAS     Charles River dummy variable (= 1 if tract bounds river; 0 otherwise)\n",
      "        - NOX      nitric oxides concentration (parts per 10 million)\n",
      "        - RM       average number of rooms per dwelling\n",
      "        - AGE      proportion of owner-occupied units built prior to 1940\n",
      "        - DIS      weighted distances to five Boston employment centres\n",
      "        - RAD      index of accessibility to radial highways\n",
      "        - TAX      full-value property-tax rate per $10,000\n",
      "        - PTRATIO  pupil-teacher ratio by town\n",
      "        - B        1000(Bk - 0.63)^2 where Bk is the proportion of blacks by town\n",
      "        - LSTAT    % lower status of the population\n",
      "        - MEDV     Median value of owner-occupied homes in $1000's\n",
      "\n",
      "    :Missing Attribute Values: None\n",
      "\n",
      "    :Creator: Harrison, D. and Rubinfeld, D.L.\n",
      "\n",
      "This is a copy of UCI ML housing dataset.\n",
      "http://archive.ics.uci.edu/ml/datasets/Housing\n",
      "\n",
      "\n",
      "This dataset was taken from the StatLib library which is maintained at Carnegie Mellon University.\n",
      "\n",
      "The Boston house-price data of Harrison, D. and Rubinfeld, D.L. 'Hedonic\n",
      "prices and the demand for clean air', J. Environ. Economics & Management,\n",
      "vol.5, 81-102, 1978.   Used in Belsley, Kuh & Welsch, 'Regression diagnostics\n",
      "...', Wiley, 1980.   N.B. Various transformations are used in the table on\n",
      "pages 244-261 of the latter.\n",
      "\n",
      "The Boston house-price data has been used in many machine learning papers that address regression\n",
      "problems.   \n",
      "     \n",
      "**References**\n",
      "\n",
      "   - Belsley, Kuh & Welsch, 'Regression diagnostics: Identifying Influential Data and Sources of Collinearity', Wiley, 1980. 244-261.\n",
      "   - Quinlan,R. (1993). Combining Instance-Based and Model-Based Learning. In Proceedings on the Tenth International Conference of Machine Learning, 236-243, University of Massachusetts, Amherst. Morgan Kaufmann.\n",
      "   - many more! (see http://archive.ics.uci.edu/ml/datasets/Housing)\n",
      "\n"
     ]
    }
   ],
   "source": [
    "boston = load_boston()\n",
    "print(boston.DESCR)"
   ]
  },
  {
   "cell_type": "markdown",
   "metadata": {},
   "source": [
    "The dataset is loaded as an object that has the following attributes."
   ]
  },
  {
   "cell_type": "code",
   "execution_count": 4,
   "metadata": {},
   "outputs": [
    {
     "name": "stdout",
     "output_type": "stream",
     "text": [
      "dict_keys(['target', 'data', 'feature_names', 'DESCR'])\n"
     ]
    }
   ],
   "source": [
    "print(boston.__dir__())"
   ]
  },
  {
   "cell_type": "markdown",
   "metadata": {},
   "source": [
    "You can access the features and target values as NumPy arrays. In array, each row corresponds to a sample. Here, I show the first 10 samples by slicing the array."
   ]
  },
  {
   "cell_type": "code",
   "execution_count": 5,
   "metadata": {},
   "outputs": [
    {
     "name": "stdout",
     "output_type": "stream",
     "text": [
      "['CRIM' 'ZN' 'INDUS' 'CHAS' 'NOX' 'RM' 'AGE' 'DIS' 'RAD' 'TAX' 'PTRATIO' 'B' 'LSTAT']\n",
      "[[  0.01  18.     2.31   0.     0.54   6.58  65.2    4.09   1.   296.    15.3  396.9    4.98]\n",
      " [  0.03   0.     7.07   0.     0.47   6.42  78.9    4.97   2.   242.    17.8  396.9    9.14]\n",
      " [  0.03   0.     7.07   0.     0.47   7.18  61.1    4.97   2.   242.    17.8  392.83   4.03]\n",
      " [  0.03   0.     2.18   0.     0.46   7.    45.8    6.06   3.   222.    18.7  394.63   2.94]\n",
      " [  0.07   0.     2.18   0.     0.46   7.15  54.2    6.06   3.   222.    18.7  396.9    5.33]\n",
      " [  0.03   0.     2.18   0.     0.46   6.43  58.7    6.06   3.   222.    18.7  394.12   5.21]\n",
      " [  0.09  12.5    7.87   0.     0.52   6.01  66.6    5.56   5.   311.    15.2  395.6   12.43]\n",
      " [  0.14  12.5    7.87   0.     0.52   6.17  96.1    5.95   5.   311.    15.2  396.9   19.15]\n",
      " [  0.21  12.5    7.87   0.     0.52   5.63 100.     6.08   5.   311.    15.2  386.63  29.93]\n",
      " [  0.17  12.5    7.87   0.     0.52   6.    85.9    6.59   5.   311.    15.2  386.71  17.1 ]]\n"
     ]
    }
   ],
   "source": [
    "print(boston.feature_names)\n",
    "print(boston.data[:10])"
   ]
  },
  {
   "cell_type": "code",
   "execution_count": 6,
   "metadata": {},
   "outputs": [
    {
     "name": "stdout",
     "output_type": "stream",
     "text": [
      "MEDV\n",
      "[[24. ]\n",
      " [21.6]\n",
      " [34.7]\n",
      " [33.4]\n",
      " [36.2]\n",
      " [28.7]\n",
      " [22.9]\n",
      " [27.1]\n",
      " [16.5]\n",
      " [18.9]]\n"
     ]
    }
   ],
   "source": [
    "print('MEDV')\n",
    "print(boston.target[:10][:, np.newaxis])"
   ]
  },
  {
   "cell_type": "markdown",
   "metadata": {},
   "source": [
    "### 1.2 Linear regression model\n",
    "\n",
    "Linear regression model is one of the most simple statistical models. It assumes that the target variable $y$ can be explained by weighted sum of feature variables $x_1, x_2, \\dots, x_n$. In an equation, a house price can be explained as\n",
    "\n",
    "$$y = w_{CRIM}x_{CRIM} + w_{ZN}x_{ZN} +, \\dots, + w_{MEDV}x_{MEDV} + b.$$\n",
    "    \n",
    "Is the relationship really that simple?\n",
    "\n",
    "> Essentially, all models are wrong, but some are useful.\n",
    ">\n",
    "> -- <cite>George Box, 1987</cite>\n",
    "\n",
    "Assuming this model is valid and we know all the weights (including the bias term), we can estimate a house price from the feature values. But we don't know the weights... What do we have? Training samples (features and target value pair)!\n",
    "\n",
    "If we find weights with which the above equation (at least approximately) holds for the training samples, we can say that our model is a \"good\" (here I'm intentionally being ambiguous) estimator. How do we find such weights? System of equations!\n",
    "\n",
    "\\begin{align*}\n",
    "y^1 &= w_{CRIM}x_{CRIM}^1 + w_{ZN}x_{ZN}^1 +, \\dots, + w_{MEDV}x_{MEDV}^1 + b \\\\\n",
    "y^2 &= w_{CRIM}x_{CRIM}^2 + w_{ZN}x_{ZN}^2 +, \\dots, + w_{MEDV}x_{MEDV}^2 + b \\\\\n",
    "\\vdots & \\\\\n",
    "y^n &= w_{CRIM}x_{CRIM}^n + w_{ZN}x_{ZN}^n +, \\dots, + w_{MEDV}x_{MEDV}^n + b\n",
    "\\end{align*}\n",
    "\n",
    "Great, we can solve it (can we?). Let's rewrite the equations with a better notation.\n",
    "\n",
    "$$\n",
    "\\begin{bmatrix}\n",
    "y^1 \\\\\n",
    "y^2 \\\\\n",
    "\\vdots \\\\\n",
    "y^n\n",
    "\\end{bmatrix}\n",
    "= \\begin{bmatrix}\n",
    "x_{CRIM}^1 & x_{ZN}^1 & x_{MEDV}^1 & 1 \\\\\n",
    "x_{CRIM}^2 & x_{ZN}^2 & x_{MEDV}^2 & 1 \\\\\n",
    "\\vdots\n",
    "x_{CRIM}^n & x_{ZN}^n & x_{MEDV}^n & 1\n",
    "\\end{bmatrix}\n",
    "\\begin{bmatrix}\n",
    "w_{CRIM} \\\\\n",
    "w_{ZN} \\\\\n",
    "\\vdots \\\\\n",
    "w_{MEDV} \\\\\n",
    "b\n",
    "\\end{bmatrix}\n",
    "$$\n",
    "\n",
    "More simply,\n",
    "$$\n",
    "\\begin{bmatrix}\n",
    "y^1 \\\\\n",
    "y^2 \\\\\n",
    "\\vdots \\\\\n",
    "y^n\n",
    "\\end{bmatrix}\n",
    "= \\begin{bmatrix}\n",
    "\\boldsymbol{x^1} \\\\\n",
    "\\boldsymbol{x^2} \\\\\n",
    "\\vdots \\\\\n",
    "\\boldsymbol{x^n}\n",
    "\\end{bmatrix}\n",
    "\\boldsymbol{w}\n",
    "$$\n",
    "\n",
    "or even...,\n",
    "\n",
    "$$\\boldsymbol{y} = X\\boldsymbol{w}$$\n",
    "\n",
    "Yes, this is beautiful. This notation is used in linear algebra, and it is a very powerful tool for us to tackle machine learing problems. The objective here is to find parameters $\\boldsymbol{w}$ that makes this equation valid, i.e. to solve the equation for $\\boldsymbol{w}$. We call this process to learn a model (parameterized function) from data. "
   ]
  },
  {
   "cell_type": "markdown",
   "metadata": {},
   "source": [
    "##  2. Matrices and vectors"
   ]
  },
  {
   "cell_type": "markdown",
   "metadata": {},
   "source": [
    "###  2.1 Matrix\n",
    "\n",
    "$$A=\n",
    "\\begin{bmatrix}\n",
    "    0 & 1 & 2 \\\\\n",
    "    3 & 4 & 5\n",
    "\\end{bmatrix}, \\quad A \\in \\mathbb{R}^{2\\times3}$$\n",
    "\n",
    "A matrix is a rectangular array of numbers. The dimension of matrix is number of rows by number of columns. $A_{ij}$ is the $i, j$ entry of $A$, which is in the $i$ th row and the $j$ th column."
   ]
  },
  {
   "cell_type": "code",
   "execution_count": 27,
   "metadata": {},
   "outputs": [
    {
     "name": "stdout",
     "output_type": "stream",
     "text": [
      "[[0 1 2]\n",
      " [3 4 5]]\n",
      "(2, 3)\n",
      "0,0 entry: 0\n",
      "0,1 entry: 1\n",
      "0,2 entry: 2\n",
      "1,0 entry: 3\n",
      "1,1 entry: 4\n",
      "1,2 entry: 5\n"
     ]
    }
   ],
   "source": [
    "A = np.array(np.arange(0, 6)).reshape((2, 3))\n",
    "print(A)\n",
    "print(A.shape)\n",
    "\n",
    "for i in range(A.shape[0]):\n",
    "    for j in range(A.shape[1]):\n",
    "        print(\"{},{} entry: {}\".format(i, j, A[i, j]))##  Matrices and Vectors"
   ]
  },
  {
   "cell_type": "markdown",
   "metadata": {},
   "source": [
    "### 2.2 Vector\n",
    "\n",
    "$$\\boldsymbol{y} = \n",
    "\\begin{bmatrix}\n",
    "    0 \\\\\n",
    "    2 \\\\\n",
    "    4 \\\\\n",
    "    6\n",
    "\\end{bmatrix}\n",
    ", \\quad \\boldsymbol{y} \\in \\mathbb{R}^4$$\n",
    "\n",
    "A vector is a $n\\times 1$ matrix. Here $\\boldsymbol{y}$ is said to be a 4-dimensional vector because it has 4 elements in it. $\\boldsymbol{y}_i$ denotes the $i$ th element of $\\boldsymbol{y}$."
   ]
  },
  {
   "cell_type": "code",
   "execution_count": 9,
   "metadata": {},
   "outputs": [
    {
     "name": "stdout",
     "output_type": "stream",
     "text": [
      "[0 2 4 6]\n",
      "(4,)\n",
      "0 element: 0\n",
      "1 element: 2\n",
      "2 element: 4\n",
      "3 element: 6\n"
     ]
    }
   ],
   "source": [
    "y = np.array(2*np.arange(0, 4))\n",
    "print(y)\n",
    "print(y.shape)\n",
    "\n",
    "for i in range(y.shape[0]):\n",
    "    print(\"{} element: {}\".format(i, y[i]))"
   ]
  },
  {
   "cell_type": "markdown",
   "metadata": {},
   "source": [
    "## 3. Basic operations on matrices and vectors"
   ]
  },
  {
   "cell_type": "markdown",
   "metadata": {},
   "source": [
    "### 3. 1 Matrix addition\n",
    "\n",
    "$\\begin{bmatrix}\n",
    "1 & 0 \\\\\n",
    "2 & 5 \\\\\n",
    "3 & 1\n",
    "\\end{bmatrix}\n",
    "+ \\begin{bmatrix}\n",
    "4 & 0.5 \\\\\n",
    "2 & 5 \\\\\n",
    "0 & 1\n",
    "\\end{bmatrix}\n",
    "= \\begin{bmatrix}\n",
    "5 & 0.5 \\\\\n",
    "4 & 10 \\\\\n",
    "3 & 2\n",
    "\\end{bmatrix}$\n",
    "\n",
    "The shapes have to be the same."
   ]
  },
  {
   "cell_type": "code",
   "execution_count": 10,
   "metadata": {},
   "outputs": [
    {
     "name": "stdout",
     "output_type": "stream",
     "text": [
      "[[ 5.   0.5]\n",
      " [ 4.  10. ]\n",
      " [ 3.   2. ]]\n"
     ]
    }
   ],
   "source": [
    "A = np.array([[1, 0],\n",
    "              [2, 5],\n",
    "              [3, 1]])\n",
    "B = np.array([[4, 0.5],\n",
    "              [2, 5],\n",
    "              [0, 1]])\n",
    "assert A.shape == B.shape\n",
    "print(A + B)"
   ]
  },
  {
   "cell_type": "markdown",
   "metadata": {},
   "source": [
    "### 3.2 Scalar matrix multiplication"
   ]
  },
  {
   "cell_type": "markdown",
   "metadata": {},
   "source": [
    "$3 \\times \\begin{bmatrix}\n",
    "1 & 0 \\\\\n",
    "2 & 5 \\\\\n",
    "3 & 1\n",
    "\\end{bmatrix}\n",
    "= \\begin{bmatrix}\n",
    "3 & 0 \\\\\n",
    "6 & 15 \\\\\n",
    "9 & 3\n",
    "\\end{bmatrix}$"
   ]
  },
  {
   "cell_type": "code",
   "execution_count": 11,
   "metadata": {},
   "outputs": [
    {
     "name": "stdout",
     "output_type": "stream",
     "text": [
      "[[ 3  0]\n",
      " [ 6 15]\n",
      " [ 9  3]]\n"
     ]
    }
   ],
   "source": [
    "A = np.array([[1, 0],\n",
    "              [2, 5],\n",
    "              [3, 1]])\n",
    "print(3*A)"
   ]
  },
  {
   "cell_type": "markdown",
   "metadata": {},
   "source": [
    "### 3.3 Matrix vector multiplication"
   ]
  },
  {
   "cell_type": "markdown",
   "metadata": {},
   "source": [
    "$A\\boldsymbol{x} = \\boldsymbol{y}$\n",
    "\n",
    "$A := m \\times n$ matrix (m rows, n columns)  \n",
    "$\\boldsymbol{x} := n \\times 1$ matrix (n-dimensional vector)  \n",
    "$\\boldsymbol{y} := m \\times 1$ matrix (m-dimensional vector)  \n",
    "\n",
    "To get $y_i$, multiply $A$'s ith row with vector $x$ element-wise, and add them up."
   ]
  },
  {
   "cell_type": "markdown",
   "metadata": {},
   "source": [
    "$\\begin{bmatrix}\n",
    "1  & 2  & 1 & 5 \\\\\n",
    "0  & 3  & 0 & 4 \\\\\n",
    "-1 & -2 & 0 & 0\n",
    "\\end{bmatrix}\n",
    "\\begin{bmatrix}\n",
    "1 \\\\\n",
    "3 \\\\\n",
    "2 \\\\\n",
    "1\n",
    "\\end{bmatrix}\n",
    "= ?$\n",
    "\n",
    "Hint: $\\mathbb{R}^{3\\times4} \\times \\mathbb{R}^{4\\times1} = \\mathbb{R}^{3\\times1}$"
   ]
  },
  {
   "cell_type": "code",
   "execution_count": 12,
   "metadata": {},
   "outputs": [
    {
     "name": "stdout",
     "output_type": "stream",
     "text": [
      "[[14]\n",
      " [13]\n",
      " [-7]]\n"
     ]
    }
   ],
   "source": [
    "A = np.array([[1, 2, 1, 5],\n",
    "              [0, 3, 0, 4],\n",
    "              [-1, -2, 0, 0]])\n",
    "x = np.array([[1],\n",
    "              [3],\n",
    "              [2],\n",
    "              [1]])\n",
    "y = np.dot(A, x)\n",
    "y = A.dot(x)  # Another way to get dot product\n",
    "assert x.shape[0] == A.shape[1]\n",
    "print(y)"
   ]
  },
  {
   "cell_type": "markdown",
   "metadata": {},
   "source": [
    "### 3.4 Matrix matrix multiplication"
   ]
  },
  {
   "cell_type": "markdown",
   "metadata": {},
   "source": [
    "$AB = C$\n",
    "\n",
    "$A := l \\times m$ matrix (l rows, m columns matrix)  \n",
    "$B := m \\times n$ matrix (m rows, n columns matrix)  \n",
    "$C := l \\times n$ matrix (l rows, n columns matrix)  \n",
    "\n",
    "$\\begin{bmatrix}\n",
    "1 & 4 \\\\\n",
    "5 & 3 \\\\\n",
    "2 & 6\n",
    "\\end{bmatrix}\n",
    "\\begin{bmatrix}\n",
    "1 & 8 & 7 & 4 \\\\\n",
    "5 & 6 & 2 & 3\n",
    "\\end{bmatrix}\n",
    "= ?$\n",
    "\n",
    "Hint: $\\mathbb{R}^{3\\times2} \\times \\mathbb{R}^{2\\times4} = \\mathbb{R}^{3\\times4}$\n",
    "\n",
    "Note that $AB$ and $BA$ are not the same, i.e. matrix multiplication is NOT commutative. Actually, the latter is not even defined. Check the dimensions."
   ]
  },
  {
   "cell_type": "code",
   "execution_count": 13,
   "metadata": {},
   "outputs": [
    {
     "name": "stdout",
     "output_type": "stream",
     "text": [
      "[[1 4]\n",
      " [5 3]\n",
      " [2 6]]\n",
      "[[1 8 7 4]\n",
      " [5 6 2 3]]\n"
     ]
    }
   ],
   "source": [
    "A = np.array([[1, 4],\n",
    "              [5, 3],\n",
    "              [2, 6]])\n",
    "B = np.array([[1, 8, 7, 4],\n",
    "              [5, 6, 2, 3]])\n",
    "print(A)\n",
    "print(B)"
   ]
  },
  {
   "cell_type": "code",
   "execution_count": 14,
   "metadata": {},
   "outputs": [
    {
     "name": "stdout",
     "output_type": "stream",
     "text": [
      "[[21 32 15 16]\n",
      " [20 58 41 29]\n",
      " [32 52 26 26]]\n"
     ]
    }
   ],
   "source": [
    "print(A.dot(B))"
   ]
  },
  {
   "cell_type": "code",
   "execution_count": 15,
   "metadata": {},
   "outputs": [
    {
     "name": "stdout",
     "output_type": "stream",
     "text": [
      "shapes (2,4) and (3,2) not aligned: 4 (dim 1) != 3 (dim 0)\n"
     ]
    }
   ],
   "source": [
    "try:\n",
    "    print(B.dot(A))\n",
    "except ValueError as e:\n",
    "    print(e)"
   ]
  },
  {
   "cell_type": "markdown",
   "metadata": {},
   "source": [
    "## 4. Properties of matrices\n",
    "\n",
    "Is linear algebra all about saving papers? Definitely NO! Do you remember terminologies such as *linear independence*, *rank*, *span*, etc that you learned in the linear algebra course? Did you get the idea of those concepts? Being able to calculate those values is important, but understanding the essense and usage of those comcept is more (at least as) important for the purpose of this course. Let's review those concepts through the Boston house price example. We want to solve this equation.\n",
    "\n",
    "$$\\boldsymbol{y} = X\\boldsymbol{w}$$\n",
    "\n",
    "where $X\\in \\mathbb{R}^{m\\times n}$ and $m>n$. $m$ is greater than $n$ because there are more samples than the number of features (remember rows are samples). In other words, $X$ is a vertically long matrix."
   ]
  },
  {
   "cell_type": "markdown",
   "metadata": {},
   "source": [
    "### 4.1 Linear independence\n",
    "\n",
    "Here, let's assume that all the features (columns of $X$) are *linearly independent*.\n",
    "\n",
    "> A set of vectors $\\{x_1, x_2, \\dots, x_n\\}\\in\\mathbb{R}^m$ is said to be *(linearly) independent* if no vector can be represented as a linear combination of the remaining vectors. [1]\n",
    "\n",
    "Otherwise, it is *linearly dependent*. For example, if we have temperature in Fahrenheit and in Celsius as two different features, the latter is represented in terms of the first as\n",
    "\n",
    "$$FAHRENHEIT = \\frac{9}{5}CELSIUS + 32.$$\n",
    "\n",
    "Such features are linearly dependent. For another example, if we have categorical features like gender, we could have two columns one for male and the other for female. For male samples we can have ones in the male column and zeros in the female column, and do the opposite for female samples. Did you notice that we have a linear dependence here because these features can be represented in the form\n",
    "\n",
    "$$FEMALE = -MALE + 1.$$"
   ]
  },
  {
   "cell_type": "markdown",
   "metadata": {},
   "source": [
    "###  4.2 Rank\n",
    "\n",
    "For a matrix $A \\in \\mathbb{R}^{m\\times n}$ where $m>n$, if its columns are *linearly independent*, it is said to be *full rank*. Formally,\n",
    "\n",
    "> The *column rank* of a matrix $A \\in \\mathbb{R}^{m\\times n}$ is the size of the largest subset of columns of $A$ that constitute a *linearly independent* set. With some abuse of terminology, this is often referred to simply as the number of linearly independent columns of $A$. In the same way, the *row rank* is the largest number of rows of $A$ that constitute a *linearly independent* set. \n",
    ">\n",
    "> For any matrix $A \\in \\mathbb{R}^{m\\times n}$, it turns out that the *column rank* of $A$ is equal to the *row\n",
    "rank* of $A$ (though we will not prove this), and so both quantities are referred to collectively as the *rank* of $A$, denoted as $rank(A)$.\n",
    ">\n",
    "> For $A \\in \\mathbb{R}^{m\\times n}$, $rank(A) \\leq \\min(m, n)$. If $rank(A) = \\min(m, n)$, then $A$ is said to be *full rank*. [1] \n",
    "\n",
    "Therefore, the first statement holds."
   ]
  },
  {
   "cell_type": "markdown",
   "metadata": {},
   "source": [
    "So, again, let's assume that the columns of $X$ are *linearly independent*, i.e. $X$ is *full rank*. Here's our first attempt to solve the equation for $\\boldsymbol{w}$.\n",
    "\n",
    "#### The first attempt\n",
    "$$\\begin{align}\n",
    "    \\boldsymbol{y} &= X\\boldsymbol{w} \\\\\n",
    "    \\boldsymbol{w} &= X^{-1}\\boldsymbol{y}\n",
    "\\end{align}$$"
   ]
  },
  {
   "cell_type": "markdown",
   "metadata": {},
   "source": [
    "### 4.3 Inverse\n",
    "> The *inverse* of a square matrix $A\\in\\mathbb{R}^{n\\times n}$ is denoted $A^{-1}$, and is the unique matrix such that\n",
    ">\n",
    "> $$A^{-1}A=I=AA^{-1}.$$\n",
    ">\n",
    "> Note that not all matrices have *inverses*. Non-square matrices, for example, do not have *inverses* by definition. However, for some square matrices $A$, it may still be the case that $A^{−1}$ may not exist. In particular, we say that $A$ is *invertible* or *non-singular* if $A^{−1}$ exists and *non-invertible* or *singular* otherwise. In order for a square matrix $A$ to have an *inverse* $A^{−1}$, then $A$ must be *full rank*. [1]"
   ]
  },
  {
   "cell_type": "markdown",
   "metadata": {},
   "source": [
    "Now, remember that our $X$ is a vertically long matrix i.e. non-square, and cannot be inverted. Threfore, we can't do $\\boldsymbol{w} = X^{-1}\\boldsymbol{y}$. What can we do, then? Here's our second attempt.\n",
    "\n",
    "#### The second attempt\n",
    "$$\\begin{align}\n",
    "    \\boldsymbol{y} &= X\\boldsymbol{w} \\\\\n",
    "    X^{T}\\boldsymbol{y} &= X^{T}X\\boldsymbol{w} \\\\\n",
    "    \\boldsymbol{w} &= {(X^{T}X)}^{-1}X^{T}\\boldsymbol{y}    \n",
    "\\end{align}$$"
   ]
  },
  {
   "cell_type": "markdown",
   "metadata": {},
   "source": [
    "### 4.4 Transpose\n",
    "\n",
    "> By convention, an n-dimensional vector is often thought of as a matrix with n rows and 1 column, known as a column vector. If we want to explicitly represent a row vector — a matrix with 1 row and n columns — we typically write $\\boldsymbol{x}^T$. [1]\n",
    "\n",
    "$$\\boldsymbol{y}\n",
    "= \\begin{bmatrix}\n",
    "0 \\\\\n",
    "1 \\\\\n",
    "2 \\\\\n",
    "3\n",
    "\\end{bmatrix},\n",
    "\\quad\\boldsymbol{y}^T\n",
    "= \\begin{bmatrix}\n",
    "0 & 1 & 2 & 3\n",
    "\\end{bmatrix},\n",
    "\\quad \\boldsymbol{y}\\in\\mathbb{R}^4$$\n",
    "\n",
    "The *transpose* can be generalized to matrices.\n",
    "\n",
    "> The *transpose* of a matrix results from \"flipping\" the rows and columns. Given a matrix $A\\in\\mathbb{R}^{m\\times n}$, its transpose, written $A^T\\in\\mathbb{R}^{n\\times m}$, is the $n\\times m$ matrix whose entries are given by\n",
    ">\n",
    "> $$(A^T)_{ij} = A_{ji}.$$ [1]\n",
    "\n",
    "$$A\n",
    "= \\begin{bmatrix}\n",
    "1 & 2 \\\\\n",
    "3 & 4 \\\\\n",
    "5 & 6 \n",
    "\\end{bmatrix},\n",
    "\\quad A^T\n",
    "= \\begin{bmatrix}\n",
    "1 & 3 & 5 \\\\\n",
    "2 & 4 & 6\n",
    "\\end{bmatrix}$$\n",
    "\n",
    "What is the dimension of $A^TA$?"
   ]
  },
  {
   "cell_type": "code",
   "execution_count": 16,
   "metadata": {},
   "outputs": [
    {
     "name": "stdout",
     "output_type": "stream",
     "text": [
      "[[1 2]\n",
      " [3 4]\n",
      " [5 6]]\n",
      "[[35 44]\n",
      " [44 56]]\n"
     ]
    }
   ],
   "source": [
    "A = np.array([[1, 2],\n",
    "              [3, 4],\n",
    "              [5, 6]])\n",
    "print(A)\n",
    "print(np.dot(A.T, A))"
   ]
  },
  {
   "cell_type": "markdown",
   "metadata": {},
   "source": [
    "$A^TA$ is always a square matrix ($\\mathbb{R}^{n\\times m}\\mathbb{R}^{m\\times n} = \\mathbb{R}^{n\\times n}$), and if $A$ is *full rank*, it is also *invertible*."
   ]
  },
  {
   "cell_type": "markdown",
   "metadata": {},
   "source": [
    "#### The second attempt\n",
    "$$\\begin{align}\n",
    "    \\boldsymbol{y} &= X\\boldsymbol{w} \\\\\n",
    "    X^{T}\\boldsymbol{y} &= X^{T}X\\boldsymbol{w} \\\\\n",
    "    \\boldsymbol{w} &= {(X^{T}X)}^{-1}X^{T}\\boldsymbol{y}    \n",
    "\\end{align}$$\n",
    "\n",
    "Note that the second equality of the second attempt multiplies both sides by the *transpose* of $X$. This is to make $X$ *invertible* so that the third line is valid. This is a correct algebraic approach."
   ]
  },
  {
   "cell_type": "markdown",
   "metadata": {},
   "source": [
    "Why don't we get the intuition behind the algebraic manipulations. Consider the linear system\n",
    "\n",
    "$$\\boldsymbol{y} = X\\boldsymbol{w}$$\n",
    "\n",
    "where we have some data such that\n",
    "\n",
    "$$\\boldsymbol{y} = \\begin{bmatrix}\n",
    "1 \\\\\n",
    "2 \\\\\n",
    "2\n",
    "\\end{bmatrix},\n",
    "\\quad\n",
    "X = \\begin{bmatrix}\n",
    "1 & 1 \\\\\n",
    "1 & 2 \\\\\n",
    "1 & 3\n",
    "\\end{bmatrix}$$\n",
    "\n",
    "for simplicity. This equation is saying that $\\boldsymbol{y}$ is a linear combination of column vectors of $X$, i.e.\n",
    "\n",
    "$$\\begin{bmatrix}\n",
    "1 \\\\\n",
    "2 \\\\\n",
    "2\n",
    "\\end{bmatrix}\n",
    "= w_1\\begin{bmatrix}\n",
    "1 \\\\\n",
    "1 \\\\\n",
    "1\n",
    "\\end{bmatrix}\n",
    "+ w_2\\begin{bmatrix}\n",
    "1 \\\\\n",
    "2 \\\\\n",
    "3\n",
    "\\end{bmatrix}.$$"
   ]
  },
  {
   "cell_type": "markdown",
   "metadata": {},
   "source": [
    "### 4.5 Span and range\n",
    "\n",
    "However, there are no such weights. In the linear algebra's terminology, $\\boldsymbol{y}$ doesn't lie in the *column space* of $X$, or the space that column vectors of $X$ *spans*. Formally, \n",
    "\n",
    "> The $span$ of a set of vectors $\\{\\boldsymbol{x}_1, \\boldsymbol{x}_2, \\dots, \\boldsymbol{x}_n\\}$ is the set of all vectors that can be expressed as a linear combination of $\\{\\boldsymbol{x}_1, \\boldsymbol{x}_2, \\dots, \\boldsymbol{x}_n\\}$. That is,\n",
    ">\n",
    "> $$\\text{span}(\\{\\boldsymbol{x}_1, \\dots, \\boldsymbol{x}_n\\}) = \\Big\\{v:v=\\sum_{i=1}^{n}\\alpha_{i}\\boldsymbol{x}_{i}, \\alpha_{i}\\in\\mathbb{R}\\Big\\}.$$ [1]\n",
    "\n",
    "Especially, when $\\boldsymbol{x}$'s are the columns of a matrix $X$, their *span* is said to be the *range* or the *column space* of $X$ and denoted $\\mathcal{R}(X)$."
   ]
  },
  {
   "cell_type": "markdown",
   "metadata": {},
   "source": [
    "Back to the equation\n",
    "\n",
    "$$\\begin{bmatrix}\n",
    "1 \\\\\n",
    "2 \\\\\n",
    "2\n",
    "\\end{bmatrix}\n",
    "= w_1\\begin{bmatrix}\n",
    "1 \\\\\n",
    "1 \\\\\n",
    "1\n",
    "\\end{bmatrix}\n",
    "+ w_2\\begin{bmatrix}\n",
    "1 \\\\\n",
    "2 \\\\\n",
    "3\n",
    "\\end{bmatrix},$$\n",
    "\n",
    "although the target vector $\\boldsymbol{y}$ is 3-dimensional, there are only two column vectors that *span* the space, i.e. the *range* of $X$ is just a 2-dimensional plane. Therefore, there certainly exists 3-dimensional vectors that don't lie on this space, like our $\\boldsymbol{y}$. Visually, it looks something like this."
   ]
  },
  {
   "cell_type": "code",
   "execution_count": 17,
   "metadata": {},
   "outputs": [
    {
     "data": {
      "image/jpeg": "[encoded data removed]",
      "text/plain": [
       "<IPython.core.display.Image object>"
      ]
     },
     "execution_count": 17,
     "metadata": {},
     "output_type": "execute_result"
    }
   ],
   "source": [
    "Image('data/column-space.jpg')"
   ]
  },
  {
   "cell_type": "markdown",
   "metadata": {},
   "source": [
    "But we want to represent $\\boldsymbol{y}$ in terms of $\\boldsymbol{x}_i$'s. The best we can do is to find a vector that lies in the *range* of $X$, but is also as close as possible to $\\boldsymbol{y}$."
   ]
  },
  {
   "cell_type": "markdown",
   "metadata": {},
   "source": [
    "### 4.6 Norm\n",
    "\n",
    "This objective can be formulated by using *norm* by saying to find $\\boldsymbol{w}$ that minimizes $||y - X\\boldsymbol{w}||_2$. \n",
    "\n",
    "> A norm of a vector $\\Vert x\\Vert$ is informally a measure of the “length” of the vector. For example, we have the commonly-used Euclidean or $\\ell_2$ norm,\n",
    ">\n",
    "> $$\\Vert\\boldsymbol{x}\\Vert_2 = \\sqrt{\\sum_{i=1}^nx_i^2}.$$\n",
    ">\n",
    "> Note that $\\Vert \\boldsymbol{x}\\Vert_2^2 = \\boldsymbol{x}^T\\boldsymbol{x}$. [1]\n",
    "\n",
    "If you take the *norm* of difference of vectors, it is a measure of distance between them. There are several types of norms, but another popular one is $\\ell_1$ norm. Given a vector $\\boldsymbol{x}\\in\\mathbb{R}^n$,\n",
    "\n",
    "$${\\Vert\\boldsymbol{x}\\Vert}_1 = \\sum_{i=0}^{n}|x_i|$$\n",
    "\n",
    "Let's use $\\ell_2$ norm as a measure of distance for now. For convinience, we can minimize the square of $\\ell_2$ norm without loss of generality. To find weights that minimizes $\\Vert\\boldsymbol{y} - X\\boldsymbol{w}\\Vert_2^2$, we can take the derivative of it with respect to $\\boldsymbol{w}$ and set to zero. Easy, right?"
   ]
  },
  {
   "cell_type": "markdown",
   "metadata": {},
   "source": [
    "### 4.7 Gradient\n",
    "\n",
    "To this end, the notion of *gradient*, which is a natural extension of partial derivatives to a vector setting, comes in handy.\n",
    "\n",
    "> Suppose that $f:\\mathbb{R}^{m\\times n} \\rightarrow \\mathbb{R}$ is a function that takes as input a matrix $A$ of size $m\\times n$ and\n",
    "returns a real value. Then the gradient of $f$ (with respect to $A\\in\\mathbb{R}^{m\\times n}$) is the matrix of partial derivatives, defined as:\n",
    ">\n",
    "> $$\\nabla_{A}f(A)\\in \\mathbb{R}^{m\\times n}=\\begin{bmatrix}\n",
    "\\frac{\\partial f(A)}{\\partial A_{11}} & \\frac{\\partial f(A)}{\\partial A_{12}} & \\dots & \\frac{\\partial f(A)}{\\partial A_{1n}} \\\\\n",
    "\\frac{\\partial f(A)}{\\partial A_{21}} & \\frac{\\partial f(A)}{\\partial A_{22}} & \\dots & \\frac{\\partial f(A)}{\\partial A_{2n}} \\\\\n",
    "\\vdots & \\vdots & \\ddots & \\vdots \\\\\n",
    "\\frac{\\partial f(A)}{\\partial A_{m1}} & \\frac{\\partial f(A)}{\\partial A_{m2}} & \\dots & \\frac{\\partial f(A)}{\\partial A_{mn}}\n",
    "\\end{bmatrix}$$\n",
    ">\n",
    "> i.e., an $m\\times n$ matrix with\n",
    ">\n",
    "> $${(\\nabla_{A}f(A))}_{ij} = \\frac{\\partial f(A)}{\\partial A_{ij}}.$$\n",
    ">\n",
    "> Note that the size of $\\nabla_{A}f(A)$ is always the same as the size of $A$. So if, in particular, $A$ is just a vector $x\\in\\mathbb{R}^n$,\n",
    ">\n",
    "> $$\\nabla_{x}f(x)=\\begin{bmatrix}\n",
    "\\frac{\\partial f(x)}{\\partial x_{1}} \\\\\n",
    "\\frac{\\partial f(x)}{\\partial x_{2}} \\\\\n",
    "\\vdots \\\\\n",
    "\\frac{\\partial f(x)}{\\partial x_{mx}}\n",
    "\\end{bmatrix}$$ [1]\n",
    "\n",
    "Let $RSS(\\boldsymbol{w})$ denote $\\Vert y - X\\boldsymbol{w}\\Vert_2^2$, meaning resisual sum of squares. Minimize $RSS(\\boldsymbol{w})$ by taking its *gradient* with respect to $\\boldsymbol{w}$ and set to zero.\n",
    "\n",
    "\\begin{align}\n",
    "RSS(\\boldsymbol{w}) &= \\Vert\\boldsymbol{y} - X\\boldsymbol{w}\\Vert_2^2 \\\\\n",
    "&= {\\Bigg(\\sqrt{\\sum_{i=0}^{m}(y_i - \\boldsymbol{x}^i\\boldsymbol{w})^2}\\Bigg)}^2 \\\\\n",
    "&= \\sum_{i=0}^{m}{\\big(y_i - \\boldsymbol{x}^i\\boldsymbol{w}\\big)}^2\n",
    "\\end{align}\n",
    "\n",
    "\\begin{align}\n",
    "\\frac{\\partial}{\\partial w_k}RSS(\\boldsymbol{w})\n",
    "&= \\frac{\\partial}{\\partial w_k}\\sum_{i=0}^{m}{\\big(y_i - \\boldsymbol{x}^i\\boldsymbol{w}\\big)}^2 \\\\\n",
    "&= \\frac{\\partial}{\\partial w_k}\\sum_{i=0}^{m}{\\big(y_i-\\sum_{j=0}^nx_j^iw_j\\big)}^2 \\\\\n",
    "&= \\sum_{i=0}^{m}{\\frac{\\partial}{\\partial w_k}\\big(y_i - \\sum_{j=0}^nx_j^iw_j\\big)}^2 \\\\\n",
    "&= \\sum_{i=0}^{m}{2\\big(y_i - \\sum_{j=0}^nx_j^iw_j\\big)\\frac{\\partial}{\\partial w_k}\\big(y_i - \\sum_{j=0}^nx_j^iw_j\\big)} \\\\\n",
    "&= -2\\sum_{i=0}^{m}{(y_i - \\boldsymbol{x}^i\\boldsymbol{w})x_k^i} \\\\\n",
    "&= -2X_k^T(\\boldsymbol{y} - X\\boldsymbol{w}) \\quad (X_k \\text{ denotes k-th column of }X) \\\\\n",
    "\\end{align}\n",
    "\n",
    "Therefore,\n",
    "\n",
    "$$\\nabla_w RSS(\\boldsymbol{w}) = -2X^T(\\boldsymbol{y} - X\\boldsymbol{w}).$$\n",
    "\n",
    "By setting the *gradient* to a zero vector,\n",
    "\n",
    "\\begin{align}\n",
    "\\nabla_w RSS(\\boldsymbol{w}) &= \\boldsymbol{0} \\\\\n",
    "-2X^T(\\boldsymbol{y} - X\\boldsymbol{w}) &= \\boldsymbol{0} \\\\\n",
    "X^T\\boldsymbol{y} &= X^TX\\boldsymbol{w} \\\\\n",
    "\\boldsymbol{w} &= {(X^TX)}^{-1}X^T\\boldsymbol{y}\n",
    "\\end{align}\n",
    "\n",
    "Yay! We got the same answer as the algebraic solution by an analytical approach!"
   ]
  },
  {
   "cell_type": "markdown",
   "metadata": {},
   "source": [
    "### 4.8 Matrix calculus\n",
    "\n",
    "Don't worry, you don't have to calculate this all the time. The *gradient* is a special case of matrix calculus, where we take the derivative of a scalar function with respect to a vector. Similarly, there are cases we take the derivative of vector with respect to vector and derivative of scalar function with respect to matrix, etc. Fortunatelly, matrix/vector calculus can be done by natural analogies of multivariable calculus, and here are some formulas that we can use.\n",
    "\n",
    "\\begin{array}{c c}\n",
    "f                 & \\frac{\\partial f}{\\partial x} \\\\\\hline\n",
    "A\\boldsymbol{x}   & A^T \\\\\n",
    "\\boldsymbol{x}^TA & A \\\\\n",
    "\\boldsymbol{x}^T\\boldsymbol{x} & 2\\boldsymbol{x} \\\\\n",
    "\\boldsymbol{x}^T\\boldsymbol{x} & A\\boldsymbol{x}+A^T\\boldsymbol{x} \\\\\n",
    "\\end{array}\n",
    "\n",
    "Therefore,\n",
    "\n",
    "\\begin{align}\n",
    "\\frac{\\partial}{\\partial\\boldsymbol{w}}RSS(\\boldsymbol{w})\n",
    "&= \\frac{\\partial}{\\partial\\boldsymbol{w}}\\Vert\\boldsymbol{y} - X\\boldsymbol{w}\\Vert_2^2 \\\\\n",
    "&= \\frac{\\partial}{\\partial\\boldsymbol{w}}{(\\boldsymbol{y} - X\\boldsymbol{w})}^T(\\boldsymbol{y} - X\\boldsymbol{w}) \\\\\n",
    "&= 2(\\boldsymbol{y} - X\\boldsymbol{w})\\frac{\\partial}{\\partial\\boldsymbol{w}}(\\boldsymbol{y} - X\\boldsymbol{w}) \\\\\n",
    "&= -2(\\boldsymbol{y} - X\\boldsymbol{w})X^T \\\\\n",
    "\\end{align}\n",
    "\n",
    "The rest is the same."
   ]
  },
  {
   "cell_type": "markdown",
   "metadata": {},
   "source": [
    "### 4.9 Projection\n",
    "\n",
    "I'll give another perspective to the linear regression solution. This is a geometric approach.\n",
    "\n",
    "> The *projection* of a vector $y\\in\\mathbb{R}^m$ onto the span of $\\{\\boldsymbol{x}_1, \\dots, \\boldsymbol{x}_n\\}$ (here we assume $\\boldsymbol{x}_i\\in\\mathbb{R}^m$) is the vector $\\boldsymbol{v}\\in\\text{span}(\\boldsymbol{x}_1,\\dots,\\boldsymbol{x}_n\\})$, such that $\\boldsymbol{v}$ is as close as possible to $\\boldsymbol{y}$, as measured by the Euclidean norm $\\Vert \\boldsymbol{v}-\\boldsymbol{y}\\Vert_2$. We denote the *projection* as $\\text{Proj}(\\boldsymbol{y};\\{\\boldsymbol{x}_1,\\dots,\\boldsymbol{x}_n\\})$ and can define it formally as,\n",
    ">\n",
    "> $$\\text{Proj}(\\boldsymbol{y}; \\{\\boldsymbol{x}_1,\\dots,\\boldsymbol{x}_n\\})=\\text{argmin}_{v\\in\\text{span}(\\{\\boldsymbol{x}_1,\\dots,\\boldsymbol{x}_n\\})}\\Vert\\boldsymbol{y}-\\boldsymbol{v}\\Vert_2$$ [1]"
   ]
  },
  {
   "cell_type": "code",
   "execution_count": 18,
   "metadata": {},
   "outputs": [
    {
     "data": {
      "image/jpeg": "[encoded data removed]",
      "text/plain": [
       "<IPython.core.display.Image object>"
      ]
     },
     "execution_count": 18,
     "metadata": {},
     "output_type": "execute_result"
    }
   ],
   "source": [
    "Image('data/column-space-2.jpg')"
   ]
  },
  {
   "cell_type": "markdown",
   "metadata": {},
   "source": [
    "This is exactly what we are looking for! We want to get the *projection* of $\\boldsymbol{y}$ onto the span of $X$. The target vector is the orange one in the image above."
   ]
  },
  {
   "cell_type": "markdown",
   "metadata": {},
   "source": [
    "### 4.10 Orthogonality\n",
    "\n",
    "The projection of a vector onto a plane can be calculated by subtracting the component of the vector that is *orthogonal* to the plane from itself. *orthogonality* is the generalization of perpendicularity to the higher dimension. \n",
    "\n",
    "> Two vectors $\\boldsymbol{x},\\boldsymbol{y}\\in\\mathbb{R}^n$ are *orthogonal* if $\\boldsymbol{x}^T\\boldsymbol{y} = 0$. A vector \n",
    "$\\boldsymbol{x}\\in\\mathbb{R}^n$ is normalized if\n",
    "$\\Vert x\\Vert_2=1$. A square matrix $U\\in\\mathbb{R}^{n\\times n}$ is *orthogonal* (note the different meanings when\n",
    "talking about vectors versus matrices) if all its columns are *orthogonal* to each other and are normalized (the columns are then referred to as being orthonormal). [1]\n",
    "\n",
    "The component of $\\boldsymbol{y}$ which is *orthogonal* to the *span* of $X$ is the difference between $\\boldsymbol{y}$ and $X\\hat{\\boldsymbol{w}}$.\n",
    "\n",
    "$$\\boldsymbol{y}-X\\hat{\\boldsymbol{w}}$$\n",
    "\n",
    "We know this vector is orthogonal to any vector on the plane including all the column vectors of $X$. It means that their dot product is zero. Collectively, it can be formulated as the equation below.\n",
    "\n",
    "$$X \\perp \\boldsymbol{y} - X\\hat{\\boldsymbol{w}}$$\n",
    "\n",
    "\\begin{align}\n",
    "X \\cdot (\\boldsymbol{y} - X\\hat{\\boldsymbol{w}}) &= 0 \\\\\n",
    "X^T(\\boldsymbol{y} - X\\hat{\\boldsymbol{w}}) &= 0 \\\\\n",
    "X^T\\boldsymbol{y} - X^T X\\hat{\\boldsymbol{w}} &= 0\n",
    "\\end{align}\n",
    "\n",
    "$$\\boldsymbol{w} = {(X^T X)}^{-1}X^T\\boldsymbol{y}$$\n",
    "\n",
    "Note that this solution is exactly what we got from the algebraic and analytical approach."
   ]
  },
  {
   "cell_type": "markdown",
   "metadata": {},
   "source": [
    "## 5. Conclusion\n",
    "\n",
    "We reviewed the basic operations and properties of linear algebra through the linear regression model. Also, we have shown that the weights of the model can be solved as $\\boldsymbol{w} = {(X^T X)}^{-1}X^T\\boldsymbol{y}$ by several approaches. Unfortunately, however, this form of solution is almost never used for the real world problems for mainly two reasons. First, computing the *inverse* of matrix is too expensive ($\\mathcal{O}(n^3)$) to be practical. Second, it is unstable especially when $X$ is almost *singular*. To learn more about singularity and linear algebra in general, please refer the Appendix A."
   ]
  },
  {
   "cell_type": "markdown",
   "metadata": {},
   "source": [
    "## Appendix\n",
    "\n",
    "### A. Linear algebra visualized\n",
    "\n",
    "Are you curious why matrices have to be *full rank* to be *invertible*? What that means to multiply a vector by a matrix or to multiply matrices by their *inverse*? Watch these videos. These are some selections from a 15-ish series of linear algebra short course. It visualizes abstract concepts very very very well. I recommend everybody to watch this series [2]."
   ]
  },
  {
   "cell_type": "code",
   "execution_count": 19,
   "metadata": {},
   "outputs": [
    {
     "data": {
      "text/html": [
       "<iframe width=\"560\" height=\"315\" src=\"https://www.youtube.com/embed/k7RM-ot2NWY?rel=0\" frameborder=\"0\" allowfullscreen></iframe>"
      ],
      "text/plain": [
       "<IPython.core.display.HTML object>"
      ]
     },
     "execution_count": 19,
     "metadata": {},
     "output_type": "execute_result"
    }
   ],
   "source": [
    "HTML('<iframe width=\"560\" height=\"315\" src=\"https://www.youtube.com/embed/k7RM-ot2NWY?rel=0\" frameborder=\"0\" allowfullscreen></iframe>')"
   ]
  },
  {
   "cell_type": "code",
   "execution_count": 20,
   "metadata": {
    "scrolled": true
   },
   "outputs": [
    {
     "data": {
      "text/html": [
       "<iframe width=\"560\" height=\"315\" src=\"https://www.youtube.com/embed/kYB8IZa5AuE?rel=0\" frameborder=\"0\" allowfullscreen></iframe>"
      ],
      "text/plain": [
       "<IPython.core.display.HTML object>"
      ]
     },
     "execution_count": 20,
     "metadata": {},
     "output_type": "execute_result"
    }
   ],
   "source": [
    "HTML('<iframe width=\"560\" height=\"315\" src=\"https://www.youtube.com/embed/kYB8IZa5AuE?rel=0\" frameborder=\"0\" allowfullscreen></iframe>')"
   ]
  },
  {
   "cell_type": "code",
   "execution_count": 21,
   "metadata": {
    "scrolled": false
   },
   "outputs": [
    {
     "data": {
      "text/html": [
       "<iframe width=\"560\" height=\"315\" src=\"https://www.youtube.com/embed/uQhTuRlWMxw?rel=0\" frameborder=\"0\" allowfullscreen></iframe>"
      ],
      "text/plain": [
       "<IPython.core.display.HTML object>"
      ]
     },
     "execution_count": 21,
     "metadata": {},
     "output_type": "execute_result"
    }
   ],
   "source": [
    "HTML('<iframe width=\"560\" height=\"315\" src=\"https://www.youtube.com/embed/uQhTuRlWMxw?rel=0\" frameborder=\"0\" allowfullscreen></iframe>')"
   ]
  },
  {
   "cell_type": "markdown",
   "metadata": {},
   "source": [
    "### B. Transpose and 1-dimensional arrays in NumPy"
   ]
  },
  {
   "cell_type": "markdown",
   "metadata": {},
   "source": [
    "You might be wondering why vectors are printed horizontally in NumPy. When 1d arrays are used, NumPy does not distinguish column vectors and row vectors unlike mathematical expressions. To see this:"
   ]
  },
  {
   "cell_type": "code",
   "execution_count": 22,
   "metadata": {},
   "outputs": [
    {
     "name": "stdout",
     "output_type": "stream",
     "text": [
      "[0 1 2] [0 1 2]\n",
      "(3,) (3,)\n"
     ]
    }
   ],
   "source": [
    "a = np.array(np.arange(0, 3))\n",
    "at = a.transpose()\n",
    "print(a, at)\n",
    "print(a.shape, at.shape)"
   ]
  },
  {
   "cell_type": "markdown",
   "metadata": {},
   "source": [
    "To create a column vector, you need to create an n by 1 2D array explicitly."
   ]
  },
  {
   "cell_type": "code",
   "execution_count": 23,
   "metadata": {},
   "outputs": [
    {
     "name": "stdout",
     "output_type": "stream",
     "text": [
      "[[0]\n",
      " [1]\n",
      " [2]]\n",
      "(3, 1)\n",
      "[[0 1 2]]\n"
     ]
    }
   ],
   "source": [
    "a = np.array([[i] for i in range(3)])\n",
    "print(a)\n",
    "print(a.shape)\n",
    "print(a.T)"
   ]
  },
  {
   "cell_type": "markdown",
   "metadata": {},
   "source": [
    "Note that in order to access the $i$ th element of a column vector $\\boldsymbol{y}$, we need to use `y[i][0]`, not `y[i]`. Also, we cannot easily mask/index arrays with `(n, 1)` array like we can with `(n,)` arrays. These subtle differences often cause a bug (at least for me). Therefore, although we use column vectors in mathematical expression, I recommend using `(n,)` arrays in code unless you really need `(n, 1)` arrays. In case you want to collapse dimensions, you can use `ravel()` method."
   ]
  },
  {
   "cell_type": "code",
   "execution_count": 24,
   "metadata": {},
   "outputs": [
    {
     "name": "stdout",
     "output_type": "stream",
     "text": [
      "[0 1 2]\n"
     ]
    }
   ],
   "source": [
    "print(a.ravel())"
   ]
  },
  {
   "cell_type": "markdown",
   "metadata": {},
   "source": [
    "Read this [document](https://docs.scipy.org/doc/numpy-1.13.0/reference/arrays.indexing.html) to learn about NumPy indexing more. It's powerful!"
   ]
  },
  {
   "cell_type": "markdown",
   "metadata": {},
   "source": [
    "## Reference\n",
    "\n",
    "[1] Kolter, Z., 2008. Linear Algebra Review and Reference. Available online: http://cs229.stanford.edu/section/cs229-linalg.pdf\n",
    "\n",
    "[2] Sanderson, G. (3Blue1Brown), 2016. Essence of linear algebra. Available online: https://www.youtube.com/playlist?list=PLZHQObOWTQDPD3MizzM2xVFitgF8hE_ab\n",
    "\n",
    "Regarding the citations from [1], vectors were bolded by the author to match the notation used in this document."
   ]
  }
 ],
 "metadata": {
  "kernelspec": {
   "display_name": "Python 3",
   "language": "python",
   "name": "python3"
  },
  "language_info": {
   "codemirror_mode": {
    "name": "ipython",
    "version": 3
   },
   "file_extension": ".py",
   "mimetype": "text/x-python",
   "name": "python",
   "nbconvert_exporter": "python",
   "pygments_lexer": "ipython3",
   "version": "3.5.2"
  }
 },
 "nbformat": 4,
 "nbformat_minor": 2
}
